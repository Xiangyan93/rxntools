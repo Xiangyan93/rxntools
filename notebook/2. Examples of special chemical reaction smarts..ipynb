{
 "cells": [
  {
   "cell_type": "code",
   "execution_count": 1,
   "id": "straight-background",
   "metadata": {},
   "outputs": [],
   "source": [
    "from rxntools.reaction import ChemicalReaction\n",
    "from rxntools.template import ReactionTemplate\n",
    "from rxntools.smiles import CombineMols\n",
    "import rdkit.Chem.AllChem as Chem"
   ]
  },
  {
   "cell_type": "markdown",
   "id": "familiar-worst",
   "metadata": {},
   "source": [
    "# Example 1"
   ]
  },
  {
   "cell_type": "code",
   "execution_count": 2,
   "id": "improved-farming",
   "metadata": {},
   "outputs": [
    {
     "name": "stdout",
     "output_type": "stream",
     "text": [
      "Cl.[CH3:43][CH2:42][S:44](=[O:45])(=[O:46])Cl.[CH3:39][N:14]([C:15](=[O:16])[N:17]([CH3:18])[C@@H:19]1[CH2:20][N:21]([C:31](=[O:32])[CH:33]2[CH2:34][CH2:35][NH:36][CH2:37][CH2:38]2)[CH2:22][C@H:23]1[c:24]1[cH:25][cH:26][c:27]([F:30])[cH:28][cH:29]1)[c:6]1[cH:7][c:8]([C:10]([F:11])([F:12])[F:13])[cH:9][c:4]([C:3]([F:40])([F:41])[F:2])[cH:5]1>>[CH3:43][CH2:42][S:44](=[O:45])(=[O:46])[N:36]1[CH2:35][CH2:34][CH:33]([C:31](=[O:32])[N:21]2[CH2:22][C@@H:23]([c:24]3[cH:29][cH:28][c:27]([F:30])[cH:26][cH:25]3)[C@H:19]([N:17]([CH3:18])[C:15](=[O:16])[N:14]([CH3:39])[c:6]3[cH:7][c:8]([C:10]([F:12])([F:11])[F:13])[cH:9][c:4]([C:3]([F:40])([F:2])[F:41])[cH:5]3)[CH2:20]2)[CH2:38][CH2:37]1\n"
     ]
    }
   ],
   "source": [
    "rs = 'Cl.[CH3:43][CH2:42][S:44](=[O:45])(=[O:46])Cl.[CH3:39][N:14]([C:15](=[O:16])[N:17]([CH3:18])[C@@H:19]1[CH2:20][N:21]([C:31](=[O:32])[CH:33]2[CH2:34][CH2:35][NH:36][CH2:37][CH2:38]2)[CH2:22][C@H:23]1[c:24]1[cH:25][cH:26][c:27]([F:30])[cH:28][cH:29]1)[c:6]1[cH:7][c:8]([C:10]([F:11])([F:12])[F:13])[cH:9][c:4]([C:3]([F:40])([F:41])[F:2])[cH:5]1>>[CH3:43][CH2:42][S:44](=[O:45])(=[O:46])[N:36]1[CH2:35][CH2:34][CH:33]([C:31](=[O:32])[N:21]2[CH2:22][C@@H:23]([c:24]3[cH:29][cH:28][c:27]([F:30])[cH:26][cH:25]3)[C@H:19]([N:17]([CH3:18])[C:15](=[O:16])[N:14]([CH3:39])[c:6]3[cH:7][c:8]([C:10]([F:12])([F:11])[F:13])[cH:9][c:4]([C:3]([F:40])([F:2])[F:41])[cH:5]3)[CH2:20]2)[CH2:38][CH2:37]1'\n",
    "print(rs)"
   ]
  },
  {
   "cell_type": "code",
   "execution_count": 3,
   "id": "incomplete-district",
   "metadata": {},
   "outputs": [
    {
     "data": {
      "image/png": "[encoded data removed]",
      "text/plain": [
       "<rdkit.Chem.rdChemReactions.ChemicalReaction at 0x7f5574dff620>"
      ]
     },
     "execution_count": 3,
     "metadata": {},
     "output_type": "execute_result"
    }
   ],
   "source": [
    "# load ChemicalReaction object from rxntools good smarts\n",
    "cr = ChemicalReaction(rs)\n",
    "good_smarts = cr.Smarts\n",
    "cr = ChemicalReaction(good_smarts)\n",
    "cr.Check()\n",
    "cr.rxn"
   ]
  },
  {
   "cell_type": "code",
   "execution_count": 4,
   "id": "unlimited-heavy",
   "metadata": {},
   "outputs": [
    {
     "data": {
      "text/plain": [
       "'[C:1]-[C;H2;D2;+0:4]-[N;H1;D2;+0:6]-[C;H2;D2;+0:5]-[C:2].[Cl;D1;H0]-[S;H0;D4;+0:9](-[C:3])(=[O;D1;H0:7])=[O;D1;H0:8]>>[C:1]-[C;H2;D2;+0:4]-[N;H0;D3;+0:6](-[C;H2;D2;+0:5]-[C:2])-[S;H0;D4;+0:9](-[C:3])(=[O;D1;H0:7])=[O;D1;H0:8]'"
      ]
     },
     "execution_count": 4,
     "metadata": {},
     "output_type": "execute_result"
    }
   ],
   "source": [
    "# chirality error when extract reaction template.\n",
    "cr.ExtractTemplate()"
   ]
  },
  {
   "cell_type": "markdown",
   "id": "anonymous-hartford",
   "metadata": {},
   "source": [
    "# Example 2"
   ]
  },
  {
   "cell_type": "markdown",
   "id": "previous-purpose",
   "metadata": {},
   "source": [
    "The reaction with symmetric reactants, the same atom map number exists more than once is considered bad reaction smarts in rxntools."
   ]
  },
  {
   "cell_type": "code",
   "execution_count": 5,
   "id": "developed-solution",
   "metadata": {},
   "outputs": [
    {
     "name": "stdout",
     "output_type": "stream",
     "text": [
      "CCN(CC)CC.[CH3:16][C:15]([CH3:17])([CH3:18])[O:14][C:12](=[O:13])O[C:12](=[O:13])[O:14][C:15]([CH3:16])([CH3:17])[CH3:18].[NH2:11][CH2:10][CH2:9][n:6]1[cH:7][cH:8][c:4]([N+:1](=[O:2])[O-:3])[n:5]1>ClCCl>[CH3:16][C:15]([CH3:17])([CH3:18])[O:14][C:12](=[O:13])[NH:11][CH2:10][CH2:9][n:6]1[cH:7][cH:8][c:4]([N+:1](=[O:2])[O-:3])[n:5]1\n"
     ]
    }
   ],
   "source": [
    "rs = 'CCN(CC)CC.[CH3:16][C:15]([CH3:17])([CH3:18])[O:14][C:12](=[O:13])O[C:12](=[O:13])[O:14][C:15]([CH3:16])([CH3:17])[CH3:18].[NH2:11][CH2:10][CH2:9][n:6]1[cH:7][cH:8][c:4]([N+:1](=[O:2])[O-:3])[n:5]1>ClCCl>[CH3:16][C:15]([CH3:17])([CH3:18])[O:14][C:12](=[O:13])[NH:11][CH2:10][CH2:9][n:6]1[cH:7][cH:8][c:4]([N+:1](=[O:2])[O-:3])[n:5]1'\n",
    "print(rs)"
   ]
  },
  {
   "cell_type": "code",
   "execution_count": 6,
   "id": "synthetic-roulette",
   "metadata": {},
   "outputs": [
    {
     "ename": "AssertionError",
     "evalue": "",
     "output_type": "error",
     "traceback": [
      "\u001b[0;31m---------------------------------------------------------------------------\u001b[0m",
      "\u001b[0;31mAssertionError\u001b[0m                            Traceback (most recent call last)",
      "\u001b[0;32m<ipython-input-6-567f5ee157af>\u001b[0m in \u001b[0;36m<module>\u001b[0;34m\u001b[0m\n\u001b[1;32m      3\u001b[0m \u001b[0mgood_smarts\u001b[0m \u001b[0;34m=\u001b[0m \u001b[0mcr\u001b[0m\u001b[0;34m.\u001b[0m\u001b[0mSmarts\u001b[0m\u001b[0;34m\u001b[0m\u001b[0;34m\u001b[0m\u001b[0m\n\u001b[1;32m      4\u001b[0m \u001b[0mcr\u001b[0m \u001b[0;34m=\u001b[0m \u001b[0mChemicalReaction\u001b[0m\u001b[0;34m(\u001b[0m\u001b[0mgood_smarts\u001b[0m\u001b[0;34m)\u001b[0m\u001b[0;34m\u001b[0m\u001b[0;34m\u001b[0m\u001b[0m\n\u001b[0;32m----> 5\u001b[0;31m \u001b[0mcr\u001b[0m\u001b[0;34m.\u001b[0m\u001b[0mCheck\u001b[0m\u001b[0;34m(\u001b[0m\u001b[0;34m)\u001b[0m\u001b[0;34m\u001b[0m\u001b[0;34m\u001b[0m\u001b[0m\n\u001b[0m",
      "\u001b[0;32m~/anaconda3/envs/rxnclean/lib/python3.7/site-packages/rxntools/reaction.py\u001b[0m in \u001b[0;36mCheck\u001b[0;34m(self)\u001b[0m\n\u001b[1;32m    340\u001b[0m         \u001b[0;32massert\u001b[0m \u001b[0;34m(\u001b[0m\u001b[0mself\u001b[0m\u001b[0;34m.\u001b[0m\u001b[0mIsGoodSmarts\u001b[0m\u001b[0;34m(\u001b[0m\u001b[0;34m)\u001b[0m \u001b[0;32mis\u001b[0m \u001b[0;32mTrue\u001b[0m\u001b[0;34m)\u001b[0m\u001b[0;34m\u001b[0m\u001b[0;34m\u001b[0m\u001b[0m\n\u001b[1;32m    341\u001b[0m         \u001b[0;32massert\u001b[0m \u001b[0;34m(\u001b[0m\u001b[0mself\u001b[0m\u001b[0;34m.\u001b[0m\u001b[0mIsTrivial\u001b[0m\u001b[0;34m(\u001b[0m\u001b[0;34m)\u001b[0m \u001b[0;32mis\u001b[0m \u001b[0;32mFalse\u001b[0m\u001b[0;34m)\u001b[0m\u001b[0;34m\u001b[0m\u001b[0;34m\u001b[0m\u001b[0m\n\u001b[0;32m--> 342\u001b[0;31m         \u001b[0;32massert\u001b[0m \u001b[0;34m(\u001b[0m\u001b[0mself\u001b[0m\u001b[0;34m.\u001b[0m\u001b[0mIsRepeatMapNumber\u001b[0m\u001b[0;34m(\u001b[0m\u001b[0mself\u001b[0m\u001b[0;34m.\u001b[0m\u001b[0mreactants\u001b[0m\u001b[0;34m)\u001b[0m \u001b[0;32mis\u001b[0m \u001b[0;32mFalse\u001b[0m\u001b[0;34m)\u001b[0m\u001b[0;34m\u001b[0m\u001b[0;34m\u001b[0m\u001b[0m\n\u001b[0m\u001b[1;32m    343\u001b[0m         \u001b[0;32massert\u001b[0m \u001b[0;34m(\u001b[0m\u001b[0mself\u001b[0m\u001b[0;34m.\u001b[0m\u001b[0mIsRepeatMapNumber\u001b[0m\u001b[0;34m(\u001b[0m\u001b[0mself\u001b[0m\u001b[0;34m.\u001b[0m\u001b[0mproducts\u001b[0m\u001b[0;34m)\u001b[0m \u001b[0;32mis\u001b[0m \u001b[0;32mFalse\u001b[0m\u001b[0;34m)\u001b[0m\u001b[0;34m\u001b[0m\u001b[0;34m\u001b[0m\u001b[0m\n\u001b[1;32m    344\u001b[0m \u001b[0;34m\u001b[0m\u001b[0m\n",
      "\u001b[0;31mAssertionError\u001b[0m: "
     ]
    }
   ],
   "source": [
    "# load ChemicalReaction object from rxntools good smarts\n",
    "cr = ChemicalReaction(rs)\n",
    "good_smarts = cr.Smarts\n",
    "cr = ChemicalReaction(good_smarts)\n",
    "cr.Check()"
   ]
  },
  {
   "cell_type": "code",
   "execution_count": null,
   "id": "instrumental-cornwall",
   "metadata": {},
   "outputs": [],
   "source": [
    "Chem.Draw.MolToImage(cr.reactants[0], size=(300,300))"
   ]
  },
  {
   "cell_type": "markdown",
   "id": "promotional-reservoir",
   "metadata": {},
   "source": [
    "# Example 3"
   ]
  },
  {
   "cell_type": "markdown",
   "id": "minimal-drain",
   "metadata": {},
   "source": [
    "Absolute chirality changed. Example in Figure 1 of Rdchiral paper."
   ]
  },
  {
   "cell_type": "code",
   "execution_count": 7,
   "id": "activated-classification",
   "metadata": {},
   "outputs": [
    {
     "name": "stdout",
     "output_type": "stream",
     "text": [
      "[CH3:1][CH2:2][O].[O:3][C:4](=[O:5])[C:6][C@H:7]([CH3:8])[CH2:9][C:10](=[O:11])[O:12][CH3:13]>>[CH3:1][CH2:2][O:3][C:4](=[O:5])[C:6][C@H:7]([CH3:8])[CH2:9][C:10](=[O:11])[O:12][CH3:13]\n"
     ]
    }
   ],
   "source": [
    "rs = '[CH3:1][CH2:2][O].[O:3][C:4](=[O:5])[C:6][C@H:7]([CH3:8])[CH2:9][C:10](=[O:11])[O:12][CH3:13]>>[CH3:1][CH2:2][O:3][C:4](=[O:5])[C:6][C@H:7]([CH3:8])[CH2:9][C:10](=[O:11])[O:12][CH3:13]'\n",
    "print(rs)"
   ]
  },
  {
   "cell_type": "code",
   "execution_count": 8,
   "id": "raised-hughes",
   "metadata": {},
   "outputs": [
    {
     "data": {
      "image/png": "[encoded data removed]",
      "text/plain": [
       "<rdkit.Chem.rdChemReactions.ChemicalReaction at 0x7f5574b2ce40>"
      ]
     },
     "execution_count": 8,
     "metadata": {},
     "output_type": "execute_result"
    }
   ],
   "source": [
    "# load ChemicalReaction object from rxntools good smarts\n",
    "cr = ChemicalReaction(rs)\n",
    "good_smarts = cr.Smarts\n",
    "cr = ChemicalReaction(good_smarts)\n",
    "cr.Check()\n",
    "cr.rxn"
   ]
  },
  {
   "cell_type": "code",
   "execution_count": 9,
   "id": "coupled-presence",
   "metadata": {},
   "outputs": [
    {
     "data": {
      "image/png": "[encoded data removed]",
      "text/plain": [
       "<rdkit.Chem.rdchem.Mol at 0x7f5574b0c080>"
      ]
     },
     "execution_count": 9,
     "metadata": {},
     "output_type": "execute_result"
    }
   ],
   "source": [
    "Chem.MolFromSmiles(cr.reactants_SMILES)"
   ]
  },
  {
   "cell_type": "code",
   "execution_count": 10,
   "id": "expired-drive",
   "metadata": {},
   "outputs": [
    {
     "data": {
      "image/png": "[encoded data removed]",
      "text/plain": [
       "<rdkit.Chem.rdchem.Mol at 0x7f5574b19170>"
      ]
     },
     "execution_count": 10,
     "metadata": {},
     "output_type": "execute_result"
    }
   ],
   "source": [
    "Chem.MolFromSmiles(cr.products_SMILES)"
   ]
  },
  {
   "cell_type": "code",
   "execution_count": 11,
   "id": "electronic-seminar",
   "metadata": {},
   "outputs": [
    {
     "data": {
      "text/plain": [
       "'[C:1]-[C;H0;D3;+0:2](=[O;D1;H0:5])-[O;H1;D1;+0:6].[O;D1;H1]-[C;H2;D2;+0:3]-[C;D1;H3:4]>>[C:1]-[C;H0;D3;+0:2](=[O;D1;H0:5])-[O;H0;D2;+0:6]-[C;H2;D2;+0:3]-[C;D1;H3:4]'"
      ]
     },
     "execution_count": 11,
     "metadata": {},
     "output_type": "execute_result"
    }
   ],
   "source": [
    "# chirality error when extract reaction template.\n",
    "cr.ExtractTemplate()"
   ]
  },
  {
   "cell_type": "markdown",
   "id": "beginning-morris",
   "metadata": {},
   "source": [
    "# Example 4"
   ]
  },
  {
   "cell_type": "markdown",
   "id": "fallen-memphis",
   "metadata": {},
   "source": [
    "Chiral reaction template. Example in TOC figure of Rdchiral paper. The reaction smarts extracted directly get correct chirality when applying it to reactants."
   ]
  },
  {
   "cell_type": "code",
   "execution_count": 12,
   "id": "optical-translator",
   "metadata": {},
   "outputs": [
    {
     "name": "stdout",
     "output_type": "stream",
     "text": [
      "[CH3:1][CH2:2][CH2:3][C@H:4]([CH3:5])[Br:6]>>[CH3:1][CH2:2][CH2:3][C@@H:4]([CH3:5])[I:6]\n"
     ]
    }
   ],
   "source": [
    "rs = '[CH3:1][CH2:2][CH2:3][C@H:4]([CH3:5])[Br:6]>>[CH3:1][CH2:2][CH2:3][C@@H:4]([CH3:5])[I:6]'\n",
    "print(rs)"
   ]
  },
  {
   "cell_type": "code",
   "execution_count": 13,
   "id": "compatible-scenario",
   "metadata": {},
   "outputs": [
    {
     "data": {
      "image/png": "[encoded data removed]",
      "text/plain": [
       "<rdkit.Chem.rdChemReactions.ChemicalReaction at 0x7f5574aac350>"
      ]
     },
     "execution_count": 13,
     "metadata": {},
     "output_type": "execute_result"
    }
   ],
   "source": [
    "# load ChemicalReaction object from rxntools good smarts\n",
    "cr = ChemicalReaction(rs)\n",
    "good_smarts = cr.Smarts\n",
    "cr = ChemicalReaction(good_smarts)\n",
    "cr.Check()\n",
    "cr.rxn"
   ]
  },
  {
   "cell_type": "code",
   "execution_count": 14,
   "id": "formed-thermal",
   "metadata": {},
   "outputs": [
    {
     "data": {
      "image/png": "[encoded data removed]",
      "text/plain": [
       "<rdkit.Chem.rdchem.Mol at 0x7f5574b170d0>"
      ]
     },
     "execution_count": 14,
     "metadata": {},
     "output_type": "execute_result"
    }
   ],
   "source": [
    "Chem.MolFromSmiles(cr.reactants_SMILES)"
   ]
  },
  {
   "cell_type": "code",
   "execution_count": 15,
   "id": "legendary-prescription",
   "metadata": {},
   "outputs": [
    {
     "data": {
      "image/png": "[encoded data removed]",
      "text/plain": [
       "<rdkit.Chem.rdchem.Mol at 0x7f5574aa5080>"
      ]
     },
     "execution_count": 15,
     "metadata": {},
     "output_type": "execute_result"
    }
   ],
   "source": [
    "Chem.MolFromSmiles(cr.products_SMILES)"
   ]
  },
  {
   "cell_type": "code",
   "execution_count": 16,
   "id": "manufactured-devil",
   "metadata": {},
   "outputs": [
    {
     "data": {
      "text/plain": [
       "'[C:1]-[C@;H1;D3;+0:2](-[C;D1;H3:3])-[Br;H0;D1;+0:4]>>[C:1]-[C@@;H1;D3;+0:2](-[C;D1;H3:3])-[I;H0;D1;+0:4]'"
      ]
     },
     "execution_count": 16,
     "metadata": {},
     "output_type": "execute_result"
    }
   ],
   "source": [
    "# chirality error when extract reaction template.\n",
    "cr.ExtractTemplate()"
   ]
  }
 ],
 "metadata": {
  "kernelspec": {
   "display_name": "Python 3",
   "language": "python",
   "name": "python3"
  },
  "language_info": {
   "codemirror_mode": {
    "name": "ipython",
    "version": 3
   },
   "file_extension": ".py",
   "mimetype": "text/x-python",
   "name": "python",
   "nbconvert_exporter": "python",
   "pygments_lexer": "ipython3",
   "version": "3.7.10"
  }
 },
 "nbformat": 4,
 "nbformat_minor": 5
}
