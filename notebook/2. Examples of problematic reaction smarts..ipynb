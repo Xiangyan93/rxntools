{
 "cells": [
  {
   "cell_type": "code",
   "execution_count": 1,
   "id": "straight-background",
   "metadata": {},
   "outputs": [],
   "source": [
    "from rxntools.reaction import ChemicalReaction\n",
    "from rxntools.template import ReactionTemplate\n",
    "from rxntools.smiles import CombineMols\n",
    "import rdkit.Chem.AllChem as Chem"
   ]
  },
  {
   "cell_type": "markdown",
   "id": "familiar-worst",
   "metadata": {},
   "source": [
    "# Example 1"
   ]
  },
  {
   "cell_type": "markdown",
   "id": "paperback-excellence",
   "metadata": {},
   "source": [
    "The problem lies in the chirality of atom 19 in the reactant. It is bonded to N: 17, C: 20, C: 23 and H. The order of their appearance in the reaction smarts is N: 17, H, C: 20, C: 23. @@ means that if you look from the direction of N: 17 to C: 19, H, C: 20, C: 23 should be arranged clockwise. But in RDKit, it is parsed counter clockwisely. (Therefore, this reaction smarts is correctly parsed in RDKit, but not in rxntools. A reaction smarts that is correct in both RDKit and rxntools are provided in the end of this example.)"
   ]
  },
  {
   "cell_type": "code",
   "execution_count": 2,
   "id": "improved-farming",
   "metadata": {},
   "outputs": [
    {
     "name": "stdout",
     "output_type": "stream",
     "text": [
      "Cl.[CH3:43][CH2:42][S:44](=[O:45])(=[O:46])Cl.[CH3:39][N:14]([C:15](=[O:16])[N:17]([CH3:18])[C@@H:19]1[CH2:20][N:21]([C:31](=[O:32])[CH:33]2[CH2:34][CH2:35][NH:36][CH2:37][CH2:38]2)[CH2:22][C@H:23]1[c:24]1[cH:25][cH:26][c:27]([F:30])[cH:28][cH:29]1)[c:6]1[cH:7][c:8]([C:10]([F:11])([F:12])[F:13])[cH:9][c:4]([C:3]([F:40])([F:41])[F:2])[cH:5]1>>[CH3:43][CH2:42][S:44](=[O:45])(=[O:46])[N:36]1[CH2:35][CH2:34][CH:33]([C:31](=[O:32])[N:21]2[CH2:22][C@@H:23]([c:24]3[cH:29][cH:28][c:27]([F:30])[cH:26][cH:25]3)[C@H:19]([N:17]([CH3:18])[C:15](=[O:16])[N:14]([CH3:39])[c:6]3[cH:7][c:8]([C:10]([F:12])([F:11])[F:13])[cH:9][c:4]([C:3]([F:40])([F:2])[F:41])[cH:5]3)[CH2:20]2)[CH2:38][CH2:37]1\n"
     ]
    }
   ],
   "source": [
    "rs = 'Cl.[CH3:43][CH2:42][S:44](=[O:45])(=[O:46])Cl.[CH3:39][N:14]([C:15](=[O:16])[N:17]([CH3:18])[C@@H:19]1[CH2:20][N:21]([C:31](=[O:32])[CH:33]2[CH2:34][CH2:35][NH:36][CH2:37][CH2:38]2)[CH2:22][C@H:23]1[c:24]1[cH:25][cH:26][c:27]([F:30])[cH:28][cH:29]1)[c:6]1[cH:7][c:8]([C:10]([F:11])([F:12])[F:13])[cH:9][c:4]([C:3]([F:40])([F:41])[F:2])[cH:5]1>>[CH3:43][CH2:42][S:44](=[O:45])(=[O:46])[N:36]1[CH2:35][CH2:34][CH:33]([C:31](=[O:32])[N:21]2[CH2:22][C@@H:23]([c:24]3[cH:29][cH:28][c:27]([F:30])[cH:26][cH:25]3)[C@H:19]([N:17]([CH3:18])[C:15](=[O:16])[N:14]([CH3:39])[c:6]3[cH:7][c:8]([C:10]([F:12])([F:11])[F:13])[cH:9][c:4]([C:3]([F:40])([F:2])[F:41])[cH:5]3)[CH2:20]2)[CH2:38][CH2:37]1'\n",
    "print(rs)"
   ]
  },
  {
   "cell_type": "code",
   "execution_count": 3,
   "id": "incomplete-district",
   "metadata": {},
   "outputs": [],
   "source": [
    "# load ChemicalReaction object from rxntools good smarts\n",
    "cr = ChemicalReaction(rs)\n",
    "good_smarts = cr.Smarts\n",
    "cr = ChemicalReaction(good_smarts)\n",
    "cr.Check()"
   ]
  },
  {
   "cell_type": "code",
   "execution_count": 4,
   "id": "unlimited-heavy",
   "metadata": {},
   "outputs": [
    {
     "ename": "RuntimeError",
     "evalue": "For chemical reaction:\nCl[S:44]([CH2:42][CH3:43])(=[O:45])=[O:46].[F:2][C:3]([c:4]1[cH:5][c:6]([N:14]([C:15](=[O:16])[N:17]([CH3:18])[CH;@@:19]2[CH2:20][N:21]([C:31](=[O:32])[CH:33]3[CH2:34][CH2:35][NH:36][CH2:37][CH2:38]3)[CH2:22][CH;@:23]2[c:24]2[cH:25][cH:26][c:27]([F:30])[cH:28][cH:29]2)[CH3:39])[cH:7][c:8]([C:10]([F:11])([F:12])[F:13])[cH:9]1)([F:40])[F:41]>Cl>[F:2][C:3]([c:4]1[cH:5][c:6]([N:14]([C:15](=[O:16])[N:17]([CH3:18])[CH;@:19]2[CH2:20][N:21]([C:31](=[O:32])[CH:33]3[CH2:34][CH2:35][N:36]([S:44]([CH2:42][CH3:43])(=[O:45])=[O:46])[CH2:37][CH2:38]3)[CH2:22][CH;@:23]2[c:24]2[cH:25][cH:26][c:27]([F:30])[cH:28][cH:29]2)[CH3:39])[cH:7][c:8]([C:10]([F:11])([F:12])[F:13])[cH:9]1)([F:40])[F:41]\nand extracted reaction template:\n([C:34]-[C&H2;D2;+0:35]-[N&H1;D2;+0:36]-[C&H2;D2;+0:37]-[C:38]).([Cl;D1;H0]-[S;H0;D4;+0:44](-[C:42])(=[O;D1;H0:45])=[O;D1;H0:46])>>([C:34]-[C&H2;D2;+0:35]-[N;H0;D3;+0:36](-[C&H2;D2;+0:37]-[C:38])-[S;H0;D4;+0:44](-[C:42])(=[O;D1;H0:45])=[O;D1;H0:46])\nThe true products:\nCCS(=O)(=O)N1CCC(C(=O)N2C[C@](c3ccc(F)cc3)[C@](N(C)C(=O)N(C)c3cc(C(F)(F)F)cc(C(F)(F)F)c3)C2)CC1\nnot in the products obtained by running the template\n['CCS(=O)(=O)N1CCC(C(=O)N2C[C@](c3ccc(F)cc3)[C@@](N(C)C(=O)N(C)c3cc(C(F)(F)F)cc(C(F)(F)F)c3)C2)CC1', 'CCS(=O)(=O)N1CCC(C(=O)N2C[C@](c3ccc(F)cc3)[C@@](N(C)C(=O)N(C)c3cc(C(F)(F)F)cc(C(F)(F)F)c3)C2)CC1', 'CCS(=O)(=O)N1CCC(C(=O)N2C[C@](c3ccc(F)cc3)[C@@](N(C)C(=O)N(C)c3cc(C(F)(F)F)cc(C(F)(F)F)c3)C2)CC1', 'CCS(=O)(=O)N1CCC(C(=O)N2C[C@](c3ccc(F)cc3)[C@@](N(C)C(=O)N(C)c3cc(C(F)(F)F)cc(C(F)(F)F)c3)C2)CC1']",
     "output_type": "error",
     "traceback": [
      "\u001b[0;31m---------------------------------------------------------------------------\u001b[0m",
      "\u001b[0;31mRuntimeError\u001b[0m                              Traceback (most recent call last)",
      "\u001b[0;32m<ipython-input-4-2df7c1910a2f>\u001b[0m in \u001b[0;36m<module>\u001b[0;34m\u001b[0m\n\u001b[1;32m      1\u001b[0m \u001b[0;31m# chirality error when extract reaction template.\u001b[0m\u001b[0;34m\u001b[0m\u001b[0;34m\u001b[0m\u001b[0;34m\u001b[0m\u001b[0m\n\u001b[0;32m----> 2\u001b[0;31m \u001b[0mcr\u001b[0m\u001b[0;34m.\u001b[0m\u001b[0mExtractTemplate\u001b[0m\u001b[0;34m(\u001b[0m\u001b[0;34m)\u001b[0m\u001b[0;34m\u001b[0m\u001b[0;34m\u001b[0m\u001b[0m\n\u001b[0m",
      "\u001b[0;32m~/anaconda3/envs/rxntools/lib/python3.7/site-packages/rxntools/reaction.py\u001b[0m in \u001b[0;36mExtractTemplate\u001b[0;34m(self, validate)\u001b[0m\n\u001b[1;32m     41\u001b[0m             \u001b[0;32mif\u001b[0m \u001b[0;32mnot\u001b[0m \u001b[0mSMILES_p\u001b[0m \u001b[0;32min\u001b[0m \u001b[0mSMILES_template_p\u001b[0m\u001b[0;34m:\u001b[0m\u001b[0;34m\u001b[0m\u001b[0;34m\u001b[0m\u001b[0m\n\u001b[1;32m     42\u001b[0m                 raise RuntimeError(\n\u001b[0;32m---> 43\u001b[0;31m                     \u001b[0;34mf'For chemical reaction:\\n{self.reaction_smarts}\\n'\u001b[0m\u001b[0;34m\u001b[0m\u001b[0;34m\u001b[0m\u001b[0m\n\u001b[0m\u001b[1;32m     44\u001b[0m                     \u001b[0;34mf'and extracted reaction template:\\n{template_smarts}\\n'\u001b[0m\u001b[0;34m\u001b[0m\u001b[0;34m\u001b[0m\u001b[0m\n\u001b[1;32m     45\u001b[0m                     \u001b[0;34mf'The true products:\\n{SMILES_p}\\n'\u001b[0m\u001b[0;34m\u001b[0m\u001b[0;34m\u001b[0m\u001b[0m\n",
      "\u001b[0;31mRuntimeError\u001b[0m: For chemical reaction:\nCl[S:44]([CH2:42][CH3:43])(=[O:45])=[O:46].[F:2][C:3]([c:4]1[cH:5][c:6]([N:14]([C:15](=[O:16])[N:17]([CH3:18])[CH;@@:19]2[CH2:20][N:21]([C:31](=[O:32])[CH:33]3[CH2:34][CH2:35][NH:36][CH2:37][CH2:38]3)[CH2:22][CH;@:23]2[c:24]2[cH:25][cH:26][c:27]([F:30])[cH:28][cH:29]2)[CH3:39])[cH:7][c:8]([C:10]([F:11])([F:12])[F:13])[cH:9]1)([F:40])[F:41]>Cl>[F:2][C:3]([c:4]1[cH:5][c:6]([N:14]([C:15](=[O:16])[N:17]([CH3:18])[CH;@:19]2[CH2:20][N:21]([C:31](=[O:32])[CH:33]3[CH2:34][CH2:35][N:36]([S:44]([CH2:42][CH3:43])(=[O:45])=[O:46])[CH2:37][CH2:38]3)[CH2:22][CH;@:23]2[c:24]2[cH:25][cH:26][c:27]([F:30])[cH:28][cH:29]2)[CH3:39])[cH:7][c:8]([C:10]([F:11])([F:12])[F:13])[cH:9]1)([F:40])[F:41]\nand extracted reaction template:\n([C:34]-[C&H2;D2;+0:35]-[N&H1;D2;+0:36]-[C&H2;D2;+0:37]-[C:38]).([Cl;D1;H0]-[S;H0;D4;+0:44](-[C:42])(=[O;D1;H0:45])=[O;D1;H0:46])>>([C:34]-[C&H2;D2;+0:35]-[N;H0;D3;+0:36](-[C&H2;D2;+0:37]-[C:38])-[S;H0;D4;+0:44](-[C:42])(=[O;D1;H0:45])=[O;D1;H0:46])\nThe true products:\nCCS(=O)(=O)N1CCC(C(=O)N2C[C@](c3ccc(F)cc3)[C@](N(C)C(=O)N(C)c3cc(C(F)(F)F)cc(C(F)(F)F)c3)C2)CC1\nnot in the products obtained by running the template\n['CCS(=O)(=O)N1CCC(C(=O)N2C[C@](c3ccc(F)cc3)[C@@](N(C)C(=O)N(C)c3cc(C(F)(F)F)cc(C(F)(F)F)c3)C2)CC1', 'CCS(=O)(=O)N1CCC(C(=O)N2C[C@](c3ccc(F)cc3)[C@@](N(C)C(=O)N(C)c3cc(C(F)(F)F)cc(C(F)(F)F)c3)C2)CC1', 'CCS(=O)(=O)N1CCC(C(=O)N2C[C@](c3ccc(F)cc3)[C@@](N(C)C(=O)N(C)c3cc(C(F)(F)F)cc(C(F)(F)F)c3)C2)CC1', 'CCS(=O)(=O)N1CCC(C(=O)N2C[C@](c3ccc(F)cc3)[C@@](N(C)C(=O)N(C)c3cc(C(F)(F)F)cc(C(F)(F)F)c3)C2)CC1']"
     ]
    }
   ],
   "source": [
    "# chirality error when extract reaction template.\n",
    "cr.ExtractTemplate()"
   ]
  },
  {
   "cell_type": "code",
   "execution_count": 5,
   "id": "final-petersburg",
   "metadata": {},
   "outputs": [
    {
     "name": "stdout",
     "output_type": "stream",
     "text": [
      "Cl[S:44]([CH2:42][CH3:43])(=[O:45])=[O:46].[F:2][C:3]([c:4]1[cH:5][c:6]([N:14]([C:15](=[O:16])[N:17]([CH3:18])[CH;@@:19]2[CH2:20][N:21]([C:31](=[O:32])[CH:33]3[CH2:34][CH2:35][NH:36][CH2:37][CH2:38]3)[CH2:22][CH;@:23]2[c:24]2[cH:25][cH:26][c:27]([F:30])[cH:28][cH:29]2)[CH3:39])[cH:7][c:8]([C:10]([F:11])([F:12])[F:13])[cH:9]1)([F:40])[F:41]>Cl>[F:2][C:3]([c:4]1[cH:5][c:6]([N:14]([C:15](=[O:16])[N:17]([CH3:18])[CH;@@:19]2[CH2:20][N:21]([C:31](=[O:32])[CH:33]3[CH2:34][CH2:35][N:36]([S:44]([CH2:42][CH3:43])(=[O:45])=[O:46])[CH2:37][CH2:38]3)[CH2:22][CH;@:23]2[c:24]2[cH:25][cH:26][c:27]([F:30])[cH:28][cH:29]2)[CH3:39])[cH:7][c:8]([C:10]([F:11])([F:12])[F:13])[cH:9]1)([F:40])[F:41]\n"
     ]
    }
   ],
   "source": [
    "corrected_reaction_smarts = cr.Smarts.replace(';@:19', ';@@:19')\n",
    "print(corrected_reaction_smarts)"
   ]
  },
  {
   "cell_type": "markdown",
   "id": "anonymous-hartford",
   "metadata": {},
   "source": [
    "# Example 2"
   ]
  },
  {
   "cell_type": "markdown",
   "id": "previous-purpose",
   "metadata": {},
   "source": [
    "The reaction with symmetric reactants, the same atom map number exists more than once is considered bad reaction smarts in rxntools."
   ]
  },
  {
   "cell_type": "code",
   "execution_count": 6,
   "id": "developed-solution",
   "metadata": {},
   "outputs": [
    {
     "name": "stdout",
     "output_type": "stream",
     "text": [
      "CCN(CC)CC.[CH3:16][C:15]([CH3:17])([CH3:18])[O:14][C:12](=[O:13])O[C:12](=[O:13])[O:14][C:15]([CH3:16])([CH3:17])[CH3:18].[NH2:11][CH2:10][CH2:9][n:6]1[cH:7][cH:8][c:4]([N+:1](=[O:2])[O-:3])[n:5]1>ClCCl>[CH3:16][C:15]([CH3:17])([CH3:18])[O:14][C:12](=[O:13])[NH:11][CH2:10][CH2:9][n:6]1[cH:7][cH:8][c:4]([N+:1](=[O:2])[O-:3])[n:5]1\n"
     ]
    }
   ],
   "source": [
    "rs = 'CCN(CC)CC.[CH3:16][C:15]([CH3:17])([CH3:18])[O:14][C:12](=[O:13])O[C:12](=[O:13])[O:14][C:15]([CH3:16])([CH3:17])[CH3:18].[NH2:11][CH2:10][CH2:9][n:6]1[cH:7][cH:8][c:4]([N+:1](=[O:2])[O-:3])[n:5]1>ClCCl>[CH3:16][C:15]([CH3:17])([CH3:18])[O:14][C:12](=[O:13])[NH:11][CH2:10][CH2:9][n:6]1[cH:7][cH:8][c:4]([N+:1](=[O:2])[O-:3])[n:5]1'\n",
    "print(rs)"
   ]
  },
  {
   "cell_type": "code",
   "execution_count": 7,
   "id": "synthetic-roulette",
   "metadata": {},
   "outputs": [],
   "source": [
    "# load ChemicalReaction object from rxntools good smarts\n",
    "cr = ChemicalReaction(rs)\n",
    "good_smarts = cr.Smarts\n",
    "cr = ChemicalReaction(good_smarts)\n",
    "cr.Check()"
   ]
  },
  {
   "cell_type": "code",
   "execution_count": 8,
   "id": "colored-density",
   "metadata": {},
   "outputs": [
    {
     "ename": "AssertionError",
     "evalue": "",
     "output_type": "error",
     "traceback": [
      "\u001b[0;31m---------------------------------------------------------------------------\u001b[0m",
      "\u001b[0;31mAssertionError\u001b[0m                            Traceback (most recent call last)",
      "\u001b[0;32m<ipython-input-8-84fea6b80b20>\u001b[0m in \u001b[0;36m<module>\u001b[0;34m\u001b[0m\n\u001b[1;32m      1\u001b[0m \u001b[0;31m# atom map number error when extract reaction template.\u001b[0m\u001b[0;34m\u001b[0m\u001b[0;34m\u001b[0m\u001b[0;34m\u001b[0m\u001b[0m\n\u001b[0;32m----> 2\u001b[0;31m \u001b[0mcr\u001b[0m\u001b[0;34m.\u001b[0m\u001b[0mExtractTemplate\u001b[0m\u001b[0;34m(\u001b[0m\u001b[0;34m)\u001b[0m\u001b[0;34m\u001b[0m\u001b[0;34m\u001b[0m\u001b[0m\n\u001b[0m",
      "\u001b[0;32m~/anaconda3/envs/rxntools/lib/python3.7/site-packages/rxntools/reaction.py\u001b[0m in \u001b[0;36mExtractTemplate\u001b[0;34m(self, validate)\u001b[0m\n\u001b[1;32m     24\u001b[0m         )\n\u001b[1;32m     25\u001b[0m         \u001b[0mtemplate_smarts\u001b[0m \u001b[0;34m=\u001b[0m \u001b[0;34m'{}>>{}'\u001b[0m\u001b[0;34m.\u001b[0m\u001b[0mformat\u001b[0m\u001b[0;34m(\u001b[0m\u001b[0mreactant_fragments\u001b[0m\u001b[0;34m,\u001b[0m \u001b[0mproduct_fragments\u001b[0m\u001b[0;34m)\u001b[0m\u001b[0;34m\u001b[0m\u001b[0;34m\u001b[0m\u001b[0m\n\u001b[0;32m---> 26\u001b[0;31m         \u001b[0mtemplate\u001b[0m \u001b[0;34m=\u001b[0m \u001b[0mReactionTemplate\u001b[0m\u001b[0;34m(\u001b[0m\u001b[0mtemplate_smarts\u001b[0m\u001b[0;34m)\u001b[0m\u001b[0;34m\u001b[0m\u001b[0;34m\u001b[0m\u001b[0m\n\u001b[0m\u001b[1;32m     27\u001b[0m         \u001b[0;32mif\u001b[0m \u001b[0mvalidate\u001b[0m\u001b[0;34m:\u001b[0m\u001b[0;34m\u001b[0m\u001b[0;34m\u001b[0m\u001b[0m\n\u001b[1;32m     28\u001b[0m             \u001b[0;32mif\u001b[0m \u001b[0mtemplate\u001b[0m\u001b[0;34m.\u001b[0m\u001b[0mrxn\u001b[0m\u001b[0;34m.\u001b[0m\u001b[0mValidate\u001b[0m\u001b[0;34m(\u001b[0m\u001b[0;34m)\u001b[0m\u001b[0;34m[\u001b[0m\u001b[0;36m1\u001b[0m\u001b[0;34m]\u001b[0m \u001b[0;34m!=\u001b[0m \u001b[0;36m0\u001b[0m\u001b[0;34m:\u001b[0m\u001b[0;34m\u001b[0m\u001b[0;34m\u001b[0m\u001b[0m\n",
      "\u001b[0;32m~/anaconda3/envs/rxntools/lib/python3.7/site-packages/rxntools/template.py\u001b[0m in \u001b[0;36m__init__\u001b[0;34m(self, template_smarts)\u001b[0m\n\u001b[1;32m      9\u001b[0m         \u001b[0mself\u001b[0m\u001b[0;34m.\u001b[0m\u001b[0mGetChiralityInfo\u001b[0m\u001b[0;34m(\u001b[0m\u001b[0;34m)\u001b[0m\u001b[0;34m\u001b[0m\u001b[0;34m\u001b[0m\u001b[0m\n\u001b[1;32m     10\u001b[0m         \u001b[0;31m# canonical\u001b[0m\u001b[0;34m\u001b[0m\u001b[0;34m\u001b[0m\u001b[0;34m\u001b[0m\u001b[0m\n\u001b[0;32m---> 11\u001b[0;31m         \u001b[0mself\u001b[0m\u001b[0;34m.\u001b[0m\u001b[0mReassignMappingNumber\u001b[0m\u001b[0;34m(\u001b[0m\u001b[0mdepth\u001b[0m\u001b[0;34m=\u001b[0m\u001b[0;36m5\u001b[0m\u001b[0;34m)\u001b[0m\u001b[0;34m\u001b[0m\u001b[0;34m\u001b[0m\u001b[0m\n\u001b[0m\u001b[1;32m     12\u001b[0m         \u001b[0mself\u001b[0m\u001b[0;34m.\u001b[0m\u001b[0mCanonicalize\u001b[0m\u001b[0;34m(\u001b[0m\u001b[0mdepth\u001b[0m\u001b[0;34m=\u001b[0m\u001b[0;36m5\u001b[0m\u001b[0;34m)\u001b[0m\u001b[0;34m\u001b[0m\u001b[0;34m\u001b[0m\u001b[0m\n\u001b[1;32m     13\u001b[0m \u001b[0;34m\u001b[0m\u001b[0m\n",
      "\u001b[0;32m~/anaconda3/envs/rxntools/lib/python3.7/site-packages/rxntools/base.py\u001b[0m in \u001b[0;36mReassignMappingNumber\u001b[0;34m(self, depth)\u001b[0m\n\u001b[1;32m    119\u001b[0m     \u001b[0;32mdef\u001b[0m \u001b[0mReassignMappingNumber\u001b[0m\u001b[0;34m(\u001b[0m\u001b[0mself\u001b[0m\u001b[0;34m,\u001b[0m \u001b[0mdepth\u001b[0m\u001b[0;34m=\u001b[0m\u001b[0;36m5\u001b[0m\u001b[0;34m)\u001b[0m\u001b[0;34m:\u001b[0m\u001b[0;34m\u001b[0m\u001b[0;34m\u001b[0m\u001b[0m\n\u001b[1;32m    120\u001b[0m         \u001b[0;31m# Delete map number that exists only in reactants or products.\u001b[0m\u001b[0;34m\u001b[0m\u001b[0;34m\u001b[0m\u001b[0;34m\u001b[0m\u001b[0m\n\u001b[0;32m--> 121\u001b[0;31m         \u001b[0mreactantsAtomMapList\u001b[0m \u001b[0;34m=\u001b[0m \u001b[0mself\u001b[0m\u001b[0;34m.\u001b[0m\u001b[0m_GetAtomMapList\u001b[0m\u001b[0;34m(\u001b[0m\u001b[0mself\u001b[0m\u001b[0;34m.\u001b[0m\u001b[0mreactants\u001b[0m\u001b[0;34m)\u001b[0m\u001b[0;34m\u001b[0m\u001b[0;34m\u001b[0m\u001b[0m\n\u001b[0m\u001b[1;32m    122\u001b[0m         \u001b[0mproductsAtomMapList\u001b[0m \u001b[0;34m=\u001b[0m \u001b[0mself\u001b[0m\u001b[0;34m.\u001b[0m\u001b[0m_GetAtomMapList\u001b[0m\u001b[0;34m(\u001b[0m\u001b[0mself\u001b[0m\u001b[0;34m.\u001b[0m\u001b[0mproducts\u001b[0m\u001b[0;34m)\u001b[0m\u001b[0;34m\u001b[0m\u001b[0;34m\u001b[0m\u001b[0m\n\u001b[1;32m    123\u001b[0m         \u001b[0;32mfor\u001b[0m \u001b[0mreactant\u001b[0m \u001b[0;32min\u001b[0m \u001b[0mself\u001b[0m\u001b[0;34m.\u001b[0m\u001b[0mreactants\u001b[0m\u001b[0;34m:\u001b[0m\u001b[0;34m\u001b[0m\u001b[0;34m\u001b[0m\u001b[0m\n",
      "\u001b[0;32m~/anaconda3/envs/rxntools/lib/python3.7/site-packages/rxntools/base.py\u001b[0m in \u001b[0;36m_GetAtomMapList\u001b[0;34m(mols)\u001b[0m\n\u001b[1;32m    331\u001b[0m                 \u001b[0mAMN\u001b[0m \u001b[0;34m=\u001b[0m \u001b[0matom\u001b[0m\u001b[0;34m.\u001b[0m\u001b[0mGetPropsAsDict\u001b[0m\u001b[0;34m(\u001b[0m\u001b[0;34m)\u001b[0m\u001b[0;34m.\u001b[0m\u001b[0mget\u001b[0m\u001b[0;34m(\u001b[0m\u001b[0;34m'molAtomMapNumber'\u001b[0m\u001b[0;34m)\u001b[0m\u001b[0;34m\u001b[0m\u001b[0;34m\u001b[0m\u001b[0m\n\u001b[1;32m    332\u001b[0m                 \u001b[0;32mif\u001b[0m \u001b[0mAMN\u001b[0m \u001b[0;32mis\u001b[0m \u001b[0;32mnot\u001b[0m \u001b[0;32mNone\u001b[0m\u001b[0;34m:\u001b[0m\u001b[0;34m\u001b[0m\u001b[0;34m\u001b[0m\u001b[0m\n\u001b[0;32m--> 333\u001b[0;31m                     \u001b[0;32massert\u001b[0m \u001b[0;34m(\u001b[0m\u001b[0mAMN\u001b[0m \u001b[0;32mnot\u001b[0m \u001b[0;32min\u001b[0m \u001b[0mAtomMapList\u001b[0m\u001b[0;34m)\u001b[0m\u001b[0;34m\u001b[0m\u001b[0;34m\u001b[0m\u001b[0m\n\u001b[0m\u001b[1;32m    334\u001b[0m                     \u001b[0mAtomMapList\u001b[0m\u001b[0;34m.\u001b[0m\u001b[0mappend\u001b[0m\u001b[0;34m(\u001b[0m\u001b[0mAMN\u001b[0m\u001b[0;34m)\u001b[0m\u001b[0;34m\u001b[0m\u001b[0;34m\u001b[0m\u001b[0m\n\u001b[1;32m    335\u001b[0m         \u001b[0;32mreturn\u001b[0m \u001b[0mAtomMapList\u001b[0m\u001b[0;34m\u001b[0m\u001b[0;34m\u001b[0m\u001b[0m\n",
      "\u001b[0;31mAssertionError\u001b[0m: "
     ]
    }
   ],
   "source": [
    "# atom map number error when extract reaction template.\n",
    "cr.ExtractTemplate()"
   ]
  },
  {
   "cell_type": "code",
   "execution_count": 9,
   "id": "instrumental-cornwall",
   "metadata": {},
   "outputs": [
    {
     "data": {
      "image/png": "[encoded data removed]",
      "text/plain": [
       "<PIL.PngImagePlugin.PngImageFile image mode=RGB size=300x300 at 0x7FEB79501A90>"
      ]
     },
     "execution_count": 9,
     "metadata": {},
     "output_type": "execute_result"
    }
   ],
   "source": [
    "Chem.Draw.MolToImage(cr.reactants[0], size=(300,300))"
   ]
  },
  {
   "cell_type": "code",
   "execution_count": null,
   "id": "binary-doctor",
   "metadata": {},
   "outputs": [],
   "source": []
  }
 ],
 "metadata": {
  "kernelspec": {
   "display_name": "Python 3",
   "language": "python",
   "name": "python3"
  },
  "language_info": {
   "codemirror_mode": {
    "name": "ipython",
    "version": 3
   },
   "file_extension": ".py",
   "mimetype": "text/x-python",
   "name": "python",
   "nbconvert_exporter": "python",
   "pygments_lexer": "ipython3",
   "version": "3.7.10"
  }
 },
 "nbformat": 4,
 "nbformat_minor": 5
}
